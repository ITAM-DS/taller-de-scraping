{
 "cells": [
  {
   "cell_type": "code",
   "execution_count": 1,
   "metadata": {
    "collapsed": true
   },
   "outputs": [],
   "source": [
    "import xml.etree.ElementTree as ET\n",
    "tree = ET.parse('demo.xml')\n",
    "root = tree.getroot()"
   ]
  },
  {
   "cell_type": "code",
   "execution_count": 2,
   "metadata": {
    "collapsed": false
   },
   "outputs": [
    {
     "data": {
      "text/plain": [
       "<Element 'bookstore' at 0x7f5d1eb1b2d0>"
      ]
     },
     "execution_count": 2,
     "metadata": {},
     "output_type": "execute_result"
    }
   ],
   "source": [
    "root"
   ]
  },
  {
   "cell_type": "code",
   "execution_count": 3,
   "metadata": {
    "collapsed": false
   },
   "outputs": [
    {
     "name": "stdout",
     "output_type": "stream",
     "text": [
      "<bookstore xmlns:ns0=\"uri:mynamespace\" specialty=\"novel\">\n",
      "  <book style=\"autobiography\">\n",
      "    <author>\n",
      "      <first-name>Joe</first-name>\n",
      "      <last-name>Bob</last-name>\n",
      "      <award>Trenton Literary Review Honorable Mention</award>\n",
      "    </author>\n",
      "    <price>12</price>\n",
      "  </book>\n",
      "  <book style=\"textbook\">\n",
      "    <author>\n",
      "      <first-name>Mary</first-name>\n",
      "      <last-name>Bob</last-name>\n",
      "      <publication>Selected Short Stories of\n",
      "        <first-name>Mary</first-name>\n",
      "        <last-name>Bob</last-name>\n",
      "      </publication>\n",
      "    </author>\n",
      "    <editor>\n",
      "      <first-name>Britney</first-name>\n",
      "      <last-name>Bob</last-name>\n",
      "    </editor>\n",
      "    <price>55</price>\n",
      "  </book>\n",
      "  <magazine frequency=\"monthly\" style=\"glossy\">\n",
      "    <price>2.50</price>\n",
      "    <subscription per=\"year\" price=\"24\" />\n",
      "  </magazine>\n",
      "  <book id=\"myfave\" style=\"novel\">\n",
      "    <author>\n",
      "      <first-name>Toni</first-name>\n",
      "      <last-name>Bob</last-name>\n",
      "      <degree from=\"Trenton U\">B.A.</degree>\n",
      "      <degree from=\"Harvard\">Ph.D.</degree>\n",
      "      <award>Pulitzer</award>\n",
      "      <publication>Still in Trenton</publication>\n",
      "      <publication>Trenton Forever</publication>\n",
      "    </author>\n",
      "    <price exchange=\"0.7\" intl=\"Canada\">6.50</price>\n",
      "    <excerpt>\n",
      "      <p>It was a dark and stormy night.</p>\n",
      "      <p>But then all nights in Trenton seem dark and\n",
      "      stormy to someone who has gone through what\n",
      "      <emph>I</emph> have.</p>\n",
      "      <definition-list>\n",
      "        <term>Trenton</term>\n",
      "        <definition>misery</definition>\n",
      "      </definition-list>\n",
      "    </excerpt>\n",
      "  </book>\n",
      "  <ns0:book price=\"29.50\" style=\"leather\">\n",
      "    <ns0:title>Who's Who in Trenton</ns0:title>\n",
      "    <ns0:author>Robert Bob</ns0:author>\n",
      "  </ns0:book>\n",
      "</bookstore>\n"
     ]
    }
   ],
   "source": [
    "ET.dump(root)"
   ]
  },
  {
   "cell_type": "code",
   "execution_count": 4,
   "metadata": {
    "collapsed": false
   },
   "outputs": [
    {
     "data": {
      "text/plain": [
       "[<Element 'bookstore' at 0x7f5d1eb1b2d0>]"
      ]
     },
     "execution_count": 4,
     "metadata": {},
     "output_type": "execute_result"
    }
   ],
   "source": [
    "root.findall(\".\")"
   ]
  },
  {
   "cell_type": "code",
   "execution_count": 5,
   "metadata": {
    "collapsed": false
   },
   "outputs": [
    {
     "data": {
      "text/plain": [
       "[<Element 'book' at 0x7f5d1eb1b310>,\n",
       " <Element 'book' at 0x7f5d1eb1b490>,\n",
       " <Element 'book' at 0x7f5d1eb1b810>]"
      ]
     },
     "execution_count": 5,
     "metadata": {},
     "output_type": "execute_result"
    }
   ],
   "source": [
    "root.findall(\"./book\")"
   ]
  },
  {
   "cell_type": "code",
   "execution_count": 6,
   "metadata": {
    "collapsed": false
   },
   "outputs": [
    {
     "name": "stdout",
     "output_type": "stream",
     "text": [
      "('book', {'style': 'autobiography'})\n",
      "('book', {'style': 'textbook'})\n",
      "('book', {'style': 'novel', 'id': 'myfave'})\n"
     ]
    }
   ],
   "source": [
    "for elemento in root.findall(\"./book\"):\n",
    "    print (elemento.tag, elemento.attrib)"
   ]
  },
  {
   "cell_type": "code",
   "execution_count": 7,
   "metadata": {
    "collapsed": false
   },
   "outputs": [
    {
     "data": {
      "text/plain": [
       "'Bob'"
      ]
     },
     "execution_count": 7,
     "metadata": {},
     "output_type": "execute_result"
    }
   ],
   "source": [
    "root[0][0][1].text"
   ]
  },
  {
   "cell_type": "code",
   "execution_count": 8,
   "metadata": {
    "collapsed": false
   },
   "outputs": [
    {
     "data": {
      "text/plain": [
       "'6.50'"
      ]
     },
     "execution_count": 8,
     "metadata": {},
     "output_type": "execute_result"
    }
   ],
   "source": [
    "root[3][1].text"
   ]
  },
  {
   "cell_type": "code",
   "execution_count": 9,
   "metadata": {
    "collapsed": false
   },
   "outputs": [
    {
     "name": "stdout",
     "output_type": "stream",
     "text": [
      "('author', 'Joe', 'Bob')\n",
      "('author', 'Mary', 'Bob')\n",
      "('author', 'Toni', 'Bob')\n"
     ]
    }
   ],
   "source": [
    "for elemento in root.findall(\".//author\"):\n",
    "    print (elemento.tag,elemento.find('first-name').text,elemento.find('last-name').text)"
   ]
  },
  {
   "cell_type": "code",
   "execution_count": 10,
   "metadata": {
    "collapsed": false
   },
   "outputs": [
    {
     "name": "stdout",
     "output_type": "stream",
     "text": [
      "3\n",
      "('author', 'Joe', 'Bob')\n",
      "3\n",
      "('author', 'Mary', 'Bob')\n",
      "7\n",
      "('author', 'B.A.')\n"
     ]
    }
   ],
   "source": [
    "for elemento in root.findall(\".//author\"):\n",
    "    print (len(elemento))\n",
    "    try:\n",
    "        print (elemento.tag,elemento.find('./degree').text)\n",
    "    except:\n",
    "        print (elemento.tag,elemento.find('./first-name').text,elemento.find('last-name').text)"
   ]
  },
  {
   "cell_type": "code",
   "execution_count": 55,
   "metadata": {
    "collapsed": false
   },
   "outputs": [
    {
     "name": "stdout",
     "output_type": "stream",
     "text": [
      "3\n",
      "Este autor no tiene grado\n",
      "3\n",
      "Este autor no tiene grado\n",
      "7\n",
      "author Ph.D.\n"
     ]
    }
   ],
   "source": [
    "for elemento in root.findall(\".//author\"):\n",
    "    print (len(elemento))\n",
    "    try:\n",
    "        print (elemento.tag,elemento.find('./degree[@from=\"Harvard\"]').text)\n",
    "    except:\n",
    "        print (\"Este autor no tiene grado\")"
   ]
  },
  {
   "cell_type": "code",
   "execution_count": 59,
   "metadata": {
    "collapsed": false
   },
   "outputs": [
    {
     "name": "stdout",
     "output_type": "stream",
     "text": [
      "3\n",
      "Este autor no tiene grado\n",
      "3\n",
      "Este autor no tiene grado\n",
      "7\n",
      "author {'from': 'Trenton U'}\n"
     ]
    }
   ],
   "source": [
    "for elemento in root.findall(\".//author\"):\n",
    "    print (len(elemento))\n",
    "    try:\n",
    "        print (elemento.tag, elemento.find('./degree').attrib)\n",
    "    except:\n",
    "        print (\"Este autor no tiene grado\")"
   ]
  },
  {
   "cell_type": "code",
   "execution_count": 80,
   "metadata": {
    "collapsed": false
   },
   "outputs": [
    {
     "name": "stdout",
     "output_type": "stream",
     "text": [
      "B.A. Trenton U\n",
      "Ph.D. Harvard\n"
     ]
    }
   ],
   "source": [
    "for elemento in root.findall('.//degree'):\n",
    "    print (elemento.text, elemento.get('from'))"
   ]
  },
  {
   "cell_type": "code",
   "execution_count": 72,
   "metadata": {
    "collapsed": false
   },
   "outputs": [
    {
     "name": "stdout",
     "output_type": "stream",
     "text": [
      "Ph.D.\n"
     ]
    }
   ],
   "source": [
    "for elemento in root.findall('.//*[@from=\"Harvard\"]'):\n",
    "    print (elemento.text)"
   ]
  },
  {
   "cell_type": "code",
   "execution_count": 91,
   "metadata": {
    "collapsed": true
   },
   "outputs": [],
   "source": [
    "from lxml import etree"
   ]
  },
  {
   "cell_type": "code",
   "execution_count": 92,
   "metadata": {
    "collapsed": true
   },
   "outputs": [],
   "source": [
    "tree_lxml = etree.parse('demo.xml')\n",
    "root_lxml = tree_lxml.getroot()"
   ]
  },
  {
   "cell_type": "code",
   "execution_count": 97,
   "metadata": {
    "collapsed": false
   },
   "outputs": [
    {
     "name": "stdout",
     "output_type": "stream",
     "text": [
      "B.A. Trenton U\n",
      "Ph.D. Harvard\n"
     ]
    }
   ],
   "source": [
    "for elemento in root_lxml.findall('.//degree'):\n",
    "    print (elemento.text, elemento.get('from'))"
   ]
  },
  {
   "cell_type": "code",
   "execution_count": null,
   "metadata": {
    "collapsed": true
   },
   "outputs": [],
   "source": []
  },
  {
   "cell_type": "code",
   "execution_count": null,
   "metadata": {
    "collapsed": true
   },
   "outputs": [],
   "source": []
  }
 ],
 "metadata": {
  "kernelspec": {
   "display_name": "Python 2",
   "language": "python",
   "name": "python2"
  },
  "language_info": {
   "codemirror_mode": {
    "name": "ipython",
    "version": 2
   },
   "file_extension": ".py",
   "mimetype": "text/x-python",
   "name": "python",
   "nbconvert_exporter": "python",
   "pygments_lexer": "ipython2",
   "version": "2.7.10"
  }
 },
 "nbformat": 4,
 "nbformat_minor": 0
}
