{
 "cells": [
  {
   "cell_type": "code",
   "execution_count": 1,
   "metadata": {
    "collapsed": true
   },
   "outputs": [],
   "source": [
    "import xml.etree.ElementTree as ET\n",
    "tree = ET.parse('demo.xml')\n",
    "root = tree.getroot()"
   ]
  },
  {
   "cell_type": "code",
   "execution_count": 4,
   "metadata": {
    "collapsed": false
   },
   "outputs": [
    {
     "data": {
      "text/plain": [
       "<Element 'bookstore' at 0x7fb08863d3b8>"
      ]
     },
     "execution_count": 4,
     "metadata": {},
     "output_type": "execute_result"
    }
   ],
   "source": [
    "root"
   ]
  },
  {
   "cell_type": "code",
   "execution_count": 7,
   "metadata": {
    "collapsed": false
   },
   "outputs": [
    {
     "name": "stdout",
     "output_type": "stream",
     "text": [
      "<bookstore xmlns:ns0=\"uri:mynamespace\" specialty=\"novel\">\n",
      "  <book style=\"autobiography\">\n",
      "    <author>\n",
      "      <first-name>Joe</first-name>\n",
      "      <last-name>Bob</last-name>\n",
      "      <award>Trenton Literary Review Honorable Mention</award>\n",
      "    </author>\n",
      "    <price>12</price>\n",
      "  </book>\n",
      "  <book style=\"textbook\">\n",
      "    <author>\n",
      "      <first-name>Mary</first-name>\n",
      "      <last-name>Bob</last-name>\n",
      "      <publication>Selected Short Stories of\n",
      "        <first-name>Mary</first-name>\n",
      "        <last-name>Bob</last-name>\n",
      "      </publication>\n",
      "    </author>\n",
      "    <editor>\n",
      "      <first-name>Britney</first-name>\n",
      "      <last-name>Bob</last-name>\n",
      "    </editor>\n",
      "    <price>55</price>\n",
      "  </book>\n",
      "  <magazine frequency=\"monthly\" style=\"glossy\">\n",
      "    <price>2.50</price>\n",
      "    <subscription per=\"year\" price=\"24\" />\n",
      "  </magazine>\n",
      "  <book id=\"myfave\" style=\"novel\">\n",
      "    <author>\n",
      "      <first-name>Toni</first-name>\n",
      "      <last-name>Bob</last-name>\n",
      "      <degree from=\"Trenton U\">B.A.</degree>\n",
      "      <degree from=\"Harvard\">Ph.D.</degree>\n",
      "      <award>Pulitzer</award>\n",
      "      <publication>Still in Trenton</publication>\n",
      "      <publication>Trenton Forever</publication>\n",
      "    </author>\n",
      "    <price exchange=\"0.7\" intl=\"Canada\">6.50</price>\n",
      "    <excerpt>\n",
      "      <p>It was a dark and stormy night.</p>\n",
      "      <p>But then all nights in Trenton seem dark and\n",
      "      stormy to someone who has gone through what\n",
      "      <emph>I</emph> have.</p>\n",
      "      <definition-list>\n",
      "        <term>Trenton</term>\n",
      "        <definition>misery</definition>\n",
      "      </definition-list>\n",
      "    </excerpt>\n",
      "  </book>\n",
      "  <ns0:book price=\"29.50\" style=\"leather\">\n",
      "    <ns0:title>Who's Who in Trenton</ns0:title>\n",
      "    <ns0:author>Robert Bob</ns0:author>\n",
      "  </ns0:book>\n",
      "</bookstore>\n"
     ]
    }
   ],
   "source": [
    "ET.dump(root)"
   ]
  },
  {
   "cell_type": "code",
   "execution_count": 8,
   "metadata": {
    "collapsed": false
   },
   "outputs": [
    {
     "data": {
      "text/plain": [
       "[<Element 'bookstore' at 0x7fb08863d3b8>]"
      ]
     },
     "execution_count": 8,
     "metadata": {},
     "output_type": "execute_result"
    }
   ],
   "source": [
    "root.findall(\".\")"
   ]
  },
  {
   "cell_type": "code",
   "execution_count": 12,
   "metadata": {
    "collapsed": false
   },
   "outputs": [
    {
     "data": {
      "text/plain": [
       "[<Element 'book' at 0x7fb0885ed278>,\n",
       " <Element 'book' at 0x7fb0885eda98>,\n",
       " <Element 'book' at 0x7fb0885edf48>]"
      ]
     },
     "execution_count": 12,
     "metadata": {},
     "output_type": "execute_result"
    }
   ],
   "source": [
    "root.findall(\"./book\")"
   ]
  },
  {
   "cell_type": "code",
   "execution_count": 19,
   "metadata": {
    "collapsed": false
   },
   "outputs": [
    {
     "name": "stdout",
     "output_type": "stream",
     "text": [
      "book {'style': 'autobiography'}\n",
      "book {'style': 'textbook'}\n",
      "book {'style': 'novel', 'id': 'myfave'}\n"
     ]
    }
   ],
   "source": [
    "for elemento in root.findall(\"./book\"):\n",
    "    print (elemento.tag, elemento.attrib)"
   ]
  },
  {
   "cell_type": "code",
   "execution_count": 26,
   "metadata": {
    "collapsed": false
   },
   "outputs": [
    {
     "data": {
      "text/plain": [
       "'Bob'"
      ]
     },
     "execution_count": 26,
     "metadata": {},
     "output_type": "execute_result"
    }
   ],
   "source": [
    "root[0][0][1].text"
   ]
  },
  {
   "cell_type": "code",
   "execution_count": 32,
   "metadata": {
    "collapsed": false
   },
   "outputs": [
    {
     "data": {
      "text/plain": [
       "'6.50'"
      ]
     },
     "execution_count": 32,
     "metadata": {},
     "output_type": "execute_result"
    }
   ],
   "source": [
    "root[3][1].text"
   ]
  },
  {
   "cell_type": "code",
   "execution_count": 40,
   "metadata": {
    "collapsed": false
   },
   "outputs": [
    {
     "name": "stdout",
     "output_type": "stream",
     "text": [
      "author Joe Bob\n",
      "author Mary Bob\n",
      "author Toni Bob\n"
     ]
    }
   ],
   "source": [
    "for elemento in root.findall(\".//author\"):\n",
    "    print (elemento.tag,elemento.find('first-name').text,elemento.find('last-name').text)"
   ]
  },
  {
   "cell_type": "code",
   "execution_count": 45,
   "metadata": {
    "collapsed": false
   },
   "outputs": [
    {
     "name": "stdout",
     "output_type": "stream",
     "text": [
      "3\n",
      "author Joe Bob\n",
      "3\n",
      "author Mary Bob\n",
      "7\n",
      "author Toni Bob\n"
     ]
    }
   ],
   "source": [
    "for elemento in root.findall(\".//author\"):\n",
    "    try:\n",
    "        print (len(elemento))\n",
    "        print (elemento.tag,elemento.find('first-name').text,elemento.find('last-name').text)\n",
    "    except:\n",
    "        print (elemento.tag,elemento.find('first-name').text,elemento.find('degree').text)"
   ]
  },
  {
   "cell_type": "code",
   "execution_count": null,
   "metadata": {
    "collapsed": true
   },
   "outputs": [],
   "source": []
  }
 ],
 "metadata": {
  "kernelspec": {
   "display_name": "Python 3",
   "language": "python",
   "name": "python3"
  },
  "language_info": {
   "codemirror_mode": {
    "name": "ipython",
    "version": 3
   },
   "file_extension": ".py",
   "mimetype": "text/x-python",
   "name": "python",
   "nbconvert_exporter": "python",
   "pygments_lexer": "ipython3",
   "version": "3.4.3+"
  }
 },
 "nbformat": 4,
 "nbformat_minor": 0
}
